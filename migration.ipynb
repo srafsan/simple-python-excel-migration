{
 "cells": [
  {
   "cell_type": "code",
   "execution_count": null,
   "id": "e4f8891e-105b-4e87-abe8-076bdf19f0f3",
   "metadata": {},
   "outputs": [],
   "source": [
    "pip install pandas xlrd sqlalchemy"
   ]
  },
  {
   "cell_type": "code",
   "execution_count": 8,
   "id": "75e1578e-d9ce-446a-b118-42d3b8d5e144",
   "metadata": {},
   "outputs": [],
   "source": [
    "import pandas as pd\n",
    "from sqlalchemy import create_engine"
   ]
  },
  {
   "cell_type": "code",
   "execution_count": 9,
   "id": "7c51c42c-2ba2-4dd0-8443-4b42fd5ff38c",
   "metadata": {},
   "outputs": [],
   "source": [
    "host = \"localhost\"\n",
    "user = \"root\"\n",
    "password = \"\"\n",
    "database = \"python_data_migration\"\n",
    "table = \"users\""
   ]
  },
  {
   "cell_type": "code",
   "execution_count": 10,
   "id": "fecb8151-af03-4da8-8ff7-c35096d31e07",
   "metadata": {},
   "outputs": [],
   "source": [
    "engine = create_engine(f\"mysql+pymysql://{user}:{password}@{host}/{database}\")"
   ]
  },
  {
   "cell_type": "code",
   "execution_count": 11,
   "id": "41e2eb8c-3581-46c4-834c-724cd73159a7",
   "metadata": {},
   "outputs": [],
   "source": [
    "file_path = \"python_data_migration.xlsx\"\n",
    "df = pd.read_excel(file_path, dtype={\"Phone Number\": str}, engine=\"openpyxl\")\n",
    "\n",
    "df.rename(columns={\n",
    "    \"First Name\": \"first_name\",\n",
    "    \"Last Name\": \"last_name\",\n",
    "    \"Phone Number\": \"phone_number\"\n",
    "}, inplace=True)"
   ]
  },
  {
   "cell_type": "code",
   "execution_count": 12,
   "id": "d511f281-57ce-430d-9936-7977a3f76f55",
   "metadata": {},
   "outputs": [
    {
     "name": "stdout",
     "output_type": "stream",
     "text": [
      "  first_name last_name phone_number\n",
      "0     Rafsan    Raiyan  01626254338\n",
      "1     Albert      Pike  01625437558\n",
      "2     Albert  Einstein  01532624558\n",
      "3      Uriyo    Ishida  01245695447\n",
      "4      Ruhul      Amin  01243568445\n"
     ]
    }
   ],
   "source": [
    "print(df.head())"
   ]
  },
  {
   "cell_type": "code",
   "execution_count": 13,
   "id": "45eb0b19-b29e-42ca-9220-bb9640f61d26",
   "metadata": {
    "scrolled": true
   },
   "outputs": [
    {
     "name": "stdout",
     "output_type": "stream",
     "text": [
      "Data successfully imported into 'users' table.\n"
     ]
    }
   ],
   "source": [
    "df.to_sql(table, con=engine, if_exists=\"append\", index=False)\n",
    "print(f\"Data successfully imported into '{table}' table.\")"
   ]
  },
  {
   "cell_type": "code",
   "execution_count": null,
   "id": "bee39199-0bf0-4bfe-99a6-3a9a661cc025",
   "metadata": {},
   "outputs": [],
   "source": []
  }
 ],
 "metadata": {
  "kernelspec": {
   "display_name": "Python 3 (ipykernel)",
   "language": "python",
   "name": "python3"
  },
  "language_info": {
   "codemirror_mode": {
    "name": "ipython",
    "version": 3
   },
   "file_extension": ".py",
   "mimetype": "text/x-python",
   "name": "python",
   "nbconvert_exporter": "python",
   "pygments_lexer": "ipython3",
   "version": "3.12.7"
  }
 },
 "nbformat": 4,
 "nbformat_minor": 5
}
